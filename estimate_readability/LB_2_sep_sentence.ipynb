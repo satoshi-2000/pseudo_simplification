{
 "cells": [
  {
   "cell_type": "code",
   "execution_count": 33,
   "id": "3baed60f",
   "metadata": {},
   "outputs": [
    {
     "name": "stdout",
     "output_type": "stream",
     "text": [
      "    num          id         grade  level\n",
      "0   5.0  LBa9_00068  2 やや専門的な一般向き      5\n",
      "1  12.0  LBb8_00002  2 やや専門的な一般向き      5\n",
      "2  30.0  LBd1_00011  2 やや専門的な一般向き      5\n",
      "3  33.0  LBd4_00008  2 やや専門的な一般向き      5\n",
      "4  36.0  LBd5_00005  2 やや専門的な一般向き      5\n"
     ]
    }
   ],
   "source": [
    "import pandas as pd\n",
    "\n",
    "df = pd.read_csv(\"LB_diff2_4_5_label_new.csv\",encoding='shift_jis')\n",
    "print(df.head())"
   ]
  },
  {
   "cell_type": "code",
   "execution_count": 34,
   "id": "30a3bc63",
   "metadata": {},
   "outputs": [
    {
     "name": "stdout",
     "output_type": "stream",
     "text": [
      "1070\n"
     ]
    }
   ],
   "source": [
    "print(len(df))\n",
    "#df = df[df['grade'] == \"2 やや専門的な一般向き\"]\n",
    "#print(len(df))"
   ]
  },
  {
   "cell_type": "code",
   "execution_count": 35,
   "id": "6c4ea9ae",
   "metadata": {},
   "outputs": [],
   "source": [
    "# 漢字率\n",
    "import re\n",
    "\n",
    "def kanji_rate(sen):\n",
    "    # 文字数\n",
    "    len_sen = len(sen)\n",
    "    # 漢字数\n",
    "    regex = u'[一-龥]'\n",
    "    p = re.compile(regex)\n",
    "    kanji_list = p.findall(sen)\n",
    "    kanji_num = len(kanji_list)\n",
    "    return kanji_num / len_sen"
   ]
  },
  {
   "cell_type": "code",
   "execution_count": 36,
   "id": "9aa5f843",
   "metadata": {},
   "outputs": [],
   "source": [
    "# BCCWJからテキストを抽出し、文単位で分割\n",
    "\n",
    "list_level = []\n",
    "list_sen = []\n",
    "list_id = []\n",
    "list_grade = []\n",
    "\n",
    "#for row in df[:5].itertuples():\n",
    "for row in df.itertuples():\n",
    "    #print(row[0])\n",
    "    #print(row[1])\n",
    "    #print(row[2])\n",
    "        \n",
    "    file_path = \"LB_ALL/\" + row[2] + \".xml\"\n",
    "    \n",
    "    with open(file_path,'r',encoding = 'utf-8') as f:\n",
    "        text = f.read()\n",
    "        text = ''.join(text.split())  # 全角スペースなどを除去\n",
    "        \n",
    "    sep_text = text.split('。')   \n",
    "    #print(sep_text[:5])\n",
    "    \n",
    "    # 6文字以下あるいは漢字率が75%以上の文章を除去\n",
    "    for sen in sep_text:\n",
    "        if(len(sen) > 7):\n",
    "            if (kanji_rate(sen) < 0.75):\n",
    "                list_id.append(row[2])\n",
    "                list_sen.append(sen)\n",
    "                list_level.append(row[4])\n",
    "                list_grade.append(row[3])\n",
    "    \n"
   ]
  },
  {
   "cell_type": "code",
   "execution_count": 37,
   "id": "85ce936e",
   "metadata": {},
   "outputs": [
    {
     "name": "stdout",
     "output_type": "stream",
     "text": [
      "['は貞享元年（一六八四）の作で、この当時『竹斎』がひろく享受されていたことは疑えない', 'しかも『竹斎』の成功に刺激されてか、通俗散文作品の主役ないし視座人物に「遍歴する無用者」が相次いで登場しており、西鶴が竹斎だけを世之介の原型に採りあげたとは考えにくい', 'とくに、寛文五年（一六六五）刊と推定される了意の『浮世物語』は、主役人物たる浮世房の諸国遍歴が前二巻にすぎず、後三巻がさまざまな話章の集合体である点までが共通するから、西鶴が『一代男』の構想を立てるに際し、直接に『浮世物語』を意識した可能性は大きい〔谷脇‐一九七六・二七五―七六〕', 'そうでないとしても、両者が共に人生遍歴を基幹モティーフとする通俗小説であることは認められてよい', '従来は『一代男』を浮世草子の第一作とする前提にとらわれ、しぜん『浮世物語』を仮名草子の枠に閉じこめて批評するほかなかった']\n"
     ]
    }
   ],
   "source": [
    "print(list_sen[:5])"
   ]
  },
  {
   "cell_type": "code",
   "execution_count": 38,
   "id": "7e2c95d0",
   "metadata": {},
   "outputs": [
    {
     "name": "stdout",
     "output_type": "stream",
     "text": [
      "[5, 5, 5, 5, 5]\n"
     ]
    }
   ],
   "source": [
    "print(list_level[:5])"
   ]
  },
  {
   "cell_type": "code",
   "execution_count": 39,
   "id": "df8f1b3c",
   "metadata": {},
   "outputs": [
    {
     "name": "stdout",
     "output_type": "stream",
     "text": [
      "['2 やや専門的な一般向き', '2 やや専門的な一般向き', '2 やや専門的な一般向き', '2 やや専門的な一般向き', '2 やや専門的な一般向き']\n"
     ]
    }
   ],
   "source": [
    "print(list_grade[:5])"
   ]
  },
  {
   "cell_type": "code",
   "execution_count": 40,
   "id": "4f9b4241",
   "metadata": {},
   "outputs": [
    {
     "name": "stdout",
     "output_type": "stream",
     "text": [
      "['LBa9_00068', 'LBa9_00068', 'LBa9_00068', 'LBa9_00068', 'LBa9_00068']\n"
     ]
    }
   ],
   "source": [
    "print(list_id[:5])"
   ]
  },
  {
   "cell_type": "code",
   "execution_count": 41,
   "id": "13f2bdc8",
   "metadata": {},
   "outputs": [
    {
     "name": "stdout",
     "output_type": "stream",
     "text": [
      "19214\n"
     ]
    }
   ],
   "source": [
    "print(len(list_sen))"
   ]
  },
  {
   "cell_type": "code",
   "execution_count": 46,
   "id": "23b5fea1",
   "metadata": {},
   "outputs": [
    {
     "name": "stdout",
     "output_type": "stream",
     "text": [
      "Counter({'2 やや専門的な一般向き': 17076, '1 専門家向き': 2138})\n"
     ]
    }
   ],
   "source": [
    "import collections\n",
    "\n",
    "c = collections.Counter(list_grade)\n",
    "print(c)"
   ]
  },
  {
   "cell_type": "code",
   "execution_count": 43,
   "id": "bb437263",
   "metadata": {},
   "outputs": [],
   "source": [
    "list_sen = [sen + '。' for sen in list_sen]"
   ]
  },
  {
   "cell_type": "code",
   "execution_count": 44,
   "id": "f92cc3df",
   "metadata": {},
   "outputs": [],
   "source": [
    "df_sep = pd.DataFrame({'id' : list_id,\n",
    "                      'level' : list_level,\n",
    "                          'sentence' : list_sen,\n",
    "                      'grade' : list_grade})"
   ]
  },
  {
   "cell_type": "code",
   "execution_count": 45,
   "id": "09465d7f",
   "metadata": {},
   "outputs": [],
   "source": [
    "df_sep.to_csv(\"LB_2_sep_sen.csv\",index=False,encoding='utf-8')"
   ]
  },
  {
   "cell_type": "code",
   "execution_count": null,
   "id": "e3c72ac8",
   "metadata": {},
   "outputs": [],
   "source": []
  }
 ],
 "metadata": {
  "kernelspec": {
   "display_name": "Python 3",
   "language": "python",
   "name": "python3"
  },
  "language_info": {
   "codemirror_mode": {
    "name": "ipython",
    "version": 3
   },
   "file_extension": ".py",
   "mimetype": "text/x-python",
   "name": "python",
   "nbconvert_exporter": "python",
   "pygments_lexer": "ipython3",
   "version": "3.8.8"
  }
 },
 "nbformat": 4,
 "nbformat_minor": 5
}
