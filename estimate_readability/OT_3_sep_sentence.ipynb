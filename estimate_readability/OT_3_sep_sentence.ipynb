{
 "cells": [
  {
   "cell_type": "code",
   "execution_count": 4,
   "id": "d86ab7e4",
   "metadata": {},
   "outputs": [
    {
     "name": "stdout",
     "output_type": "stream",
     "text": [
      "           id school  grade  level\n",
      "0  OT01_00002      小    6.0      2\n",
      "1  OT01_00004      小    6.0      2\n",
      "2  OT01_00005      小    6.0      2\n",
      "3  OT01_00006      小    4.0      1\n",
      "4  OT01_00009      小    3.0      1\n"
     ]
    }
   ],
   "source": [
    "import pandas as pd\n",
    "\n",
    "df = pd.read_csv(\"OT_id_grade_label_new.csv\",encoding='shift_jis')\n",
    "print(df.head())"
   ]
  },
  {
   "cell_type": "code",
   "execution_count": 14,
   "id": "6a770ef6",
   "metadata": {},
   "outputs": [],
   "source": [
    "# 漢字率\n",
    "import re\n",
    "\n",
    "def kanji_rate(sen):\n",
    "    # 文字数\n",
    "    len_sen = len(sen)\n",
    "    # 漢字数\n",
    "    regex = u'[一-龥]'\n",
    "    p = re.compile(regex)\n",
    "    kanji_list = p.findall(sen)\n",
    "    kanji_num = len(kanji_list)\n",
    "    return kanji_num / len_sen"
   ]
  },
  {
   "cell_type": "code",
   "execution_count": 21,
   "id": "2ada74d7",
   "metadata": {},
   "outputs": [],
   "source": [
    "# 教科書コーパスからテキストを抽出し、文単位で分割\n",
    "\n",
    "list_level = []\n",
    "list_sen = []\n",
    "list_id = []\n",
    "\n",
    "#for row in df[:5].itertuples():\n",
    "for row in df.itertuples():\n",
    "        \n",
    "    file_path = \"OT_3/\" + row[1] + \".xml\"\n",
    "    \n",
    "    with open(file_path,'r',encoding = 'utf-8') as f:\n",
    "        text = f.read()\n",
    "        text = ''.join(text.split())  # 全角スペースなどを除去\n",
    "        \n",
    "    sep_text = text.split('。')   \n",
    "    #print(sep_text[:5])\n",
    "    \n",
    "    # 6文字以下あるいは漢字率が75%以上の文章を除去\n",
    "    for sen in sep_text:\n",
    "        if(len(sen) > 7):\n",
    "            if (kanji_rate(sen) < 0.75):\n",
    "                list_id.append(row[1])\n",
    "                list_sen.append(sen)\n",
    "                list_level.append(row[4])\n",
    "    \n",
    "    \n",
    "    \n",
    "    #print(text[:10])    \n",
    "    #print(row[0])\n",
    "    #print(row[1])"
   ]
  },
  {
   "cell_type": "code",
   "execution_count": 22,
   "id": "966807b3",
   "metadata": {},
   "outputs": [
    {
     "name": "stdout",
     "output_type": "stream",
     "text": [
      "['「言葉の森」案内ここは、自分の力で学習を進めるところです', 'おもしろそうだなと思ったら、挑戦してみましょう', '●今も昔もはってん・狂言柿山伏／柿山伏について今も昔もはってん▼昔の人が楽しんできたことは、脈々と続いて、今のわたしたちにも楽しみをあたえてくれる', '調べる・見る・聞く・演じる・遊ぶ・読む―なんでもやってみよう', '昔、作り上げられ、伝わり続けて、今も楽しまれているものは、たくさんあります']\n"
     ]
    }
   ],
   "source": [
    "print(list_sen[:5])"
   ]
  },
  {
   "cell_type": "code",
   "execution_count": 23,
   "id": "51c06b8f",
   "metadata": {},
   "outputs": [
    {
     "name": "stdout",
     "output_type": "stream",
     "text": [
      "[2, 2, 2, 2, 2]\n"
     ]
    }
   ],
   "source": [
    "print(list_level[:5])"
   ]
  },
  {
   "cell_type": "code",
   "execution_count": 24,
   "id": "be65d9dc",
   "metadata": {},
   "outputs": [
    {
     "name": "stdout",
     "output_type": "stream",
     "text": [
      "39240\n"
     ]
    }
   ],
   "source": [
    "print(len(list_sen))"
   ]
  },
  {
   "cell_type": "code",
   "execution_count": 25,
   "id": "0427941e",
   "metadata": {},
   "outputs": [
    {
     "name": "stdout",
     "output_type": "stream",
     "text": [
      "Counter({4: 24667, 3: 7737, 2: 4044, 1: 2162, 0: 630})\n"
     ]
    }
   ],
   "source": [
    "import collections\n",
    "\n",
    "c = collections.Counter(list_level)\n",
    "print(c)"
   ]
  },
  {
   "cell_type": "code",
   "execution_count": 29,
   "id": "597def16",
   "metadata": {},
   "outputs": [],
   "source": [
    "list_sen = [sen + '。' for sen in list_sen]"
   ]
  },
  {
   "cell_type": "code",
   "execution_count": 30,
   "id": "d92ca451",
   "metadata": {},
   "outputs": [],
   "source": [
    "df_sep = pd.DataFrame({'id' : list_id,\n",
    "                      'level' : list_level,\n",
    "                          'sentence' : list_sen})"
   ]
  },
  {
   "cell_type": "code",
   "execution_count": 31,
   "id": "e615063a",
   "metadata": {},
   "outputs": [],
   "source": [
    "df_sep.to_csv(\"OT_3_sep_sen.csv\",index=False,encoding='utf-8')"
   ]
  }
 ],
 "metadata": {
  "kernelspec": {
   "display_name": "Python 3",
   "language": "python",
   "name": "python3"
  },
  "language_info": {
   "codemirror_mode": {
    "name": "ipython",
    "version": 3
   },
   "file_extension": ".py",
   "mimetype": "text/x-python",
   "name": "python",
   "nbconvert_exporter": "python",
   "pygments_lexer": "ipython3",
   "version": "3.8.8"
  }
 },
 "nbformat": 4,
 "nbformat_minor": 5
}
